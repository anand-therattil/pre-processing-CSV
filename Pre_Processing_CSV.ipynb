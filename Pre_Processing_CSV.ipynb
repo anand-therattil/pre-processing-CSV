{
  "nbformat": 4,
  "nbformat_minor": 0,
  "metadata": {
    "colab": {
      "provenance": [],
      "authorship_tag": "ABX9TyO+AN+EY7a8satIawH2BitF",
      "include_colab_link": true
    },
    "kernelspec": {
      "name": "python3",
      "display_name": "Python 3"
    },
    "language_info": {
      "name": "python"
    }
  },
  "cells": [
    {
      "cell_type": "markdown",
      "metadata": {
        "id": "view-in-github",
        "colab_type": "text"
      },
      "source": [
        "<a href=\"https://colab.research.google.com/github/anand-therattil/pre-processing-CSV/blob/main/Pre_Processing_CSV.ipynb\" target=\"_parent\"><img src=\"https://colab.research.google.com/assets/colab-badge.svg\" alt=\"Open In Colab\"/></a>"
      ]
    },
    {
      "cell_type": "code",
      "execution_count": null,
      "metadata": {
        "id": "DSZix-AUPqBF"
      },
      "outputs": [],
      "source": [
        "import pandas as pd \n",
        "import numpy as np\n",
        "from sklearn import svm\n",
        "from sklearn import preprocessing\n",
        "from sklearn.preprocessing import OneHotEncoder"
      ]
    },
    {
      "cell_type": "code",
      "source": [
        "class pre_processing:\n",
        "  def __init__(self,data):\n",
        "    self.data = data\n",
        "  \n",
        "  def nan_replace(self):\n",
        "    self.data = self.data.apply(lambda x: x.fillna(x.value_counts().index[0]))\n",
        "    return  self.data\n",
        "    \n",
        "  def cat2num(self,column_name,LE_OHE):\n",
        "    if(LE_OHE==\"LE\"):\n",
        "      label_encoder = preprocessing.LabelEncoder()\n",
        "      column_data =  self.data[column_name].apply(label_encoder.fit_transform)\n",
        "      self.data.drop(column_name,axis=1,inplace=True)\n",
        "      self.data = pd.concat([self.data,column_data],axis=1)\n",
        "    elif(LE_OHE==\"OHE\"):\n",
        "      Onehotencoder = OneHotEncoder()\n",
        "      column_data = Onehotencoder.fit_transform(self.data[column_name]).toarray()\n",
        "      column_data = pd.DataFrame(column_data)\n",
        "      self.data.drop(column_name,axis=1,inplace=True)\n",
        "      self.data = pd.concat([self.data,column_data],axis=1)\n",
        "      self.data.columns = self.data.columns.astype(str)\n",
        "    return  self.data"
      ],
      "metadata": {
        "id": "0-zMq4tfeXPi"
      },
      "execution_count": null,
      "outputs": []
    },
    {
      "cell_type": "code",
      "source": [],
      "metadata": {
        "id": "r7u3nvfNe06Q"
      },
      "execution_count": null,
      "outputs": []
    }
  ]
}